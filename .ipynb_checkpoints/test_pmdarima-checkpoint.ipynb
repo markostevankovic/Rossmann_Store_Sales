{
 "cells": [
  {
   "cell_type": "code",
   "execution_count": 1,
   "metadata": {},
   "outputs": [],
   "source": [
    "import pandas as pd\n",
    "import pmdarima as pm"
   ]
  },
  {
   "cell_type": "code",
   "execution_count": 2,
   "metadata": {},
   "outputs": [],
   "source": [
    "wineind = pm.datasets.load_wineind()"
   ]
  },
  {
   "cell_type": "code",
   "execution_count": 5,
   "metadata": {},
   "outputs": [],
   "source": [
    "train, test = wineind[:150], wineind[150:]"
   ]
  },
  {
   "cell_type": "code",
   "execution_count": 7,
   "metadata": {},
   "outputs": [
    {
     "data": {
      "text/plain": [
       "array([15136., 16733., 20016., 17708., 18019., 19227., 22893., 23739.,\n",
       "       21133., 22591., 26786., 29740., 15028., 17977., 20008., 21354.,\n",
       "       19498., 22125., 25817., 28779., 20960., 22254., 27392., 29945.,\n",
       "       16933., 17892., 20533., 23569., 22417., 22084., 26580., 27454.,\n",
       "       24081., 23451., 28991., 31386., 16896., 20045., 23471., 21747.,\n",
       "       25621., 23859., 25500., 30998., 24475., 23145., 29701., 34365.,\n",
       "       17556., 22077., 25702., 22214., 26886., 23191., 27831., 35406.,\n",
       "       23195., 25110., 30009., 36242., 18450., 21845., 26488., 22394.,\n",
       "       28057., 25451., 24872., 33424., 24052., 28449., 33533., 37351.,\n",
       "       19969., 21701., 26249., 24493., 24603., 26485., 30723., 34569.,\n",
       "       26689., 26157., 32064., 38870., 21337., 19419., 23166., 28286.,\n",
       "       24570., 24001., 33151., 24878., 26804., 28967., 33311., 40226.,\n",
       "       20504., 23060., 23562., 27562., 23940., 24584., 34303., 25517.,\n",
       "       23494., 29095., 32903., 34379., 16991., 21109., 23740., 25552.,\n",
       "       21752., 20294., 29009., 25500., 24166., 26960., 31222., 38641.,\n",
       "       14672., 17543., 25453., 32683., 22449., 22316., 27595., 25451.,\n",
       "       25421., 25288., 32568., 35110., 16052., 22146., 21198., 19543.,\n",
       "       22084., 23816., 29961., 26773., 26635., 26972., 30207., 38687.,\n",
       "       16974., 21697., 24179., 23757., 25013., 24019.])"
      ]
     },
     "execution_count": 7,
     "metadata": {},
     "output_type": "execute_result"
    }
   ],
   "source": [
    "train"
   ]
  },
  {
   "cell_type": "code",
   "execution_count": null,
   "metadata": {},
   "outputs": [],
   "source": []
  }
 ],
 "metadata": {
  "kernelspec": {
   "display_name": "Python 3",
   "language": "python",
   "name": "python3"
  },
  "language_info": {
   "codemirror_mode": {
    "name": "ipython",
    "version": 3
   },
   "file_extension": ".py",
   "mimetype": "text/x-python",
   "name": "python",
   "nbconvert_exporter": "python",
   "pygments_lexer": "ipython3",
   "version": "3.7.3"
  }
 },
 "nbformat": 4,
 "nbformat_minor": 2
}
